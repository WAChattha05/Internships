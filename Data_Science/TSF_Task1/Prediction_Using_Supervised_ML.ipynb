{
 "cells": [
  {
   "cell_type": "code",
   "execution_count": 8,
   "id": "89ad3d1a",
   "metadata": {},
   "outputs": [],
   "source": [
    "import pandas as pd\n",
    "import numpy as np\n",
    "from sklearn.model_selection import train_test_split\n",
    "from sklearn.linear_model import LinearRegression\n",
    "import matplotlib.pyplot as plt\n",
    "import csv\n"
   ]
  },
  {
   "cell_type": "code",
   "execution_count": 9,
   "id": "08e8eb72",
   "metadata": {},
   "outputs": [],
   "source": [
    "# Creating a list of data\n",
    "data = [\n",
    "    [2.5, 21],\n",
    "    [5.1, 47],\n",
    "    [3.2, 27],\n",
    "    [8.5, 75],\n",
    "    [3.5, 30],\n",
    "    [1.5, 20],\n",
    "    [9.2, 88],\n",
    "    [5.5, 60],\n",
    "    [8.3, 81],\n",
    "    [2.7, 25],\n",
    "    [7.7, 85],\n",
    "    [5.9, 62],\n",
    "    [4.5, 41],\n",
    "    [3.3, 42],\n",
    "    [1.1, 17],\n",
    "    [8.9, 95],\n",
    "    [2.5, 30],\n",
    "    [1.9, 24],\n",
    "    [6.1, 67],\n",
    "    [7.4, 69],\n",
    "    [2.7, 30],\n",
    "    [4.8, 54],\n",
    "    [3.8, 35],\n",
    "    [6.9, 76],\n",
    "    [7.8, 86],\n",
    "]"
   ]
  },
  {
   "cell_type": "code",
   "execution_count": 11,
   "id": "6cfd17e5",
   "metadata": {},
   "outputs": [],
   "source": [
    "# Creating a DataFrame\n",
    "df = pd.DataFrame(data, columns=[\"Hours\", \"Scores\"])\n",
    "\n",
    "# Writing the DataFrame to a CSV file\n",
    "df.to_csv(\"data.csv\", index=False)\n",
    "# Reading the CSV file and storing the data into DataFrame\n",
    "df = pd.read_csv(\"data.csv\")\n"
   ]
  },
  {
   "cell_type": "code",
   "execution_count": 12,
   "id": "bfef2f0d",
   "metadata": {},
   "outputs": [],
   "source": [
    "# Split the data into training and test sets\n",
    "X_train, X_test, y_train, y_test = train_test_split(df[\"Hours\"], df[\"Scores\"], test_size=0.25)\n",
    "\n"
   ]
  },
  {
   "cell_type": "code",
   "execution_count": 13,
   "id": "dd7c32d4",
   "metadata": {},
   "outputs": [
    {
     "name": "stdout",
     "output_type": "stream",
     "text": [
      "Mean squared error: 39.61378551603831\n",
      "Predicted score for a student who studies for 9.25 hours/day: 93.04088221813518\n"
     ]
    }
   ],
   "source": [
    "# Training the linear regression model\n",
    "regressor = LinearRegression()\n",
    "regressor.fit(X_train.values.reshape(-1, 1), y_train)\n",
    "\n",
    "# Evaluating the linear regression model on the test set\n",
    "y_pred = regressor.predict(X_test.values.reshape(-1, 1))\n",
    "mse = np.mean((y_pred - y_test)**2)\n",
    "print(\"Mean squared error:\", mse)\n",
    "\n",
    "# Making predictions using the linear regression model\n",
    "predicted_score = regressor.predict([[9.25]])[0]\n",
    "print(\"Predicted score for a student who studies for 9.25 hours/day:\", predicted_score)\n",
    "\n"
   ]
  },
  {
   "cell_type": "code",
   "execution_count": 14,
   "id": "5ae92743",
   "metadata": {},
   "outputs": [
    {
     "data": {
      "image/png": "[encoded data removed]",
      "text/plain": [
       "<Figure size 640x480 with 1 Axes>"
      ]
     },
     "metadata": {},
     "output_type": "display_data"
    }
   ],
   "source": [
    "# Ploting the data and the regression line\n",
    "plt.scatter(X_train, y_train, color=\"black\")\n",
    "plt.plot(X_train, regressor.predict(X_train.values.reshape(-1, 1)), color=\"red\")\n",
    "plt.xlabel(\"Hours\")\n",
    "plt.ylabel(\"Scores\")\n",
    "plt.show()"
   ]
  },
  {
   "cell_type": "code",
   "execution_count": null,
   "id": "99a45c83",
   "metadata": {},
   "outputs": [],
   "source": []
  }
 ],
 "metadata": {
  "kernelspec": {
   "display_name": "Python 3 (ipykernel)",
   "language": "python",
   "name": "python3"
  },
  "language_info": {
   "codemirror_mode": {
    "name": "ipython",
    "version": 3
   },
   "file_extension": ".py",
   "mimetype": "text/x-python",
   "name": "python",
   "nbconvert_exporter": "python",
   "pygments_lexer": "ipython3",
   "version": "3.11.4"
  }
 },
 "nbformat": 4,
 "nbformat_minor": 5
}
